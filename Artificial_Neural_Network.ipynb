{
  "nbformat": 4,
  "nbformat_minor": 0,
  "metadata": {
    "colab": {
      "name": "Artificial Neural Network",
      "provenance": [],
      "collapsed_sections": []
    },
    "kernelspec": {
      "name": "python3",
      "display_name": "Python 3"
    }
  },
  "cells": [
    {
      "cell_type": "markdown",
      "metadata": {
        "id": "3cbb7fRy-eyr"
      },
      "source": [
        "# Artificial Neural Network"
      ]
    },
    {
      "cell_type": "markdown",
      "metadata": {
        "id": "8sNDnxE2-pwE"
      },
      "source": [
        "### Importing the libraries"
      ]
    },
    {
      "cell_type": "code",
      "source": [
        "import numpy as np\n",
        "import pandas as pd\n",
        "import tensorflow as tf "
      ],
      "metadata": {
        "id": "GR6mXKtx4Lx6"
      },
      "execution_count": null,
      "outputs": []
    },
    {
      "cell_type": "code",
      "metadata": {
        "id": "uBTqR3nacj0e",
        "colab": {
          "base_uri": "https://localhost:8080/",
          "height": 35
        },
        "outputId": "ec3a5dd4-602a-413b-b8d6-52e53c89be42"
      },
      "source": [
        "tf.__version__"
      ],
      "execution_count": null,
      "outputs": [
        {
          "output_type": "execute_result",
          "data": {
            "text/plain": [
              "'2.8.2'"
            ],
            "application/vnd.google.colaboratory.intrinsic+json": {
              "type": "string"
            }
          },
          "metadata": {},
          "execution_count": 2
        }
      ]
    },
    {
      "cell_type": "markdown",
      "metadata": {
        "id": "AG3FQEch-yuA"
      },
      "source": [
        "## Part 1 - Data Preprocessing"
      ]
    },
    {
      "cell_type": "markdown",
      "metadata": {
        "id": "-4zq8Mza_D9O"
      },
      "source": [
        "### Importing the dataset"
      ]
    },
    {
      "cell_type": "code",
      "source": [
        "dataset = pd.read_excel('Folds5x2_pp.xlsx')\n",
        "X = dataset.iloc[:, :-1].values\n",
        "y = dataset.iloc[:,-1].values"
      ],
      "metadata": {
        "id": "B85b2HqE4lKG"
      },
      "execution_count": null,
      "outputs": []
    },
    {
      "cell_type": "markdown",
      "metadata": {
        "id": "VC6omXel_Up0"
      },
      "source": [
        "### Splitting the dataset into the Training set and Test set"
      ]
    },
    {
      "cell_type": "code",
      "source": [
        "from sklearn.model_selection import train_test_split\n",
        "X_train, X_test, y_train, y_test = train_test_split(X, y, test_size = 0.2, random_state=0)"
      ],
      "metadata": {
        "id": "NLcKo3Jo5ui5"
      },
      "execution_count": null,
      "outputs": []
    },
    {
      "cell_type": "markdown",
      "metadata": {
        "id": "_mSLlAT9_eyI"
      },
      "source": [
        "## Part 2 - Building the ANN"
      ]
    },
    {
      "cell_type": "markdown",
      "metadata": {
        "id": "CsBULd_f_wLY"
      },
      "source": [
        "### Initializing the ANN"
      ]
    },
    {
      "cell_type": "code",
      "source": [
        "ann = tf.keras.models.Sequential()"
      ],
      "metadata": {
        "id": "cSSRZPm_6iZi"
      },
      "execution_count": null,
      "outputs": []
    },
    {
      "cell_type": "markdown",
      "metadata": {
        "id": "iitAFJS_ABUn"
      },
      "source": [
        "### Adding the input layer and the first hidden layer"
      ]
    },
    {
      "cell_type": "code",
      "source": [
        "ann.add(tf.keras.layers.Dense(units = 6, activation = 'relu'))"
      ],
      "metadata": {
        "id": "wj0tNv3O7O9O"
      },
      "execution_count": null,
      "outputs": []
    },
    {
      "cell_type": "markdown",
      "metadata": {
        "id": "-lb4kK_wAKbs"
      },
      "source": [
        "### Adding the second hidden layer"
      ]
    },
    {
      "cell_type": "code",
      "source": [
        "ann.add(tf.keras.layers.Dense(units = 6, activation = 'relu'))"
      ],
      "metadata": {
        "id": "Bwh2RNmw7PpK"
      },
      "execution_count": null,
      "outputs": []
    },
    {
      "cell_type": "markdown",
      "metadata": {
        "id": "jwMOmKb3AdBY"
      },
      "source": [
        "### Adding the output layer"
      ]
    },
    {
      "cell_type": "code",
      "source": [
        "ann.add(tf.keras.layers.Dense(units = 1))"
      ],
      "metadata": {
        "id": "RinxXoQ17QMA"
      },
      "execution_count": null,
      "outputs": []
    },
    {
      "cell_type": "markdown",
      "metadata": {
        "id": "fq7e4fF6A1yy"
      },
      "source": [
        "## Part 3 - Training the ANN"
      ]
    },
    {
      "cell_type": "markdown",
      "metadata": {
        "id": "qDeylAs2An25"
      },
      "source": [
        "### Compiling the ANN"
      ]
    },
    {
      "cell_type": "code",
      "source": [
        "ann.compile(optimizer = 'adam', loss = 'mean_squared_error')"
      ],
      "metadata": {
        "id": "QEDMoo0N8mc2"
      },
      "execution_count": null,
      "outputs": []
    },
    {
      "cell_type": "markdown",
      "metadata": {
        "id": "YjVuiybYOo7r"
      },
      "source": [
        "### Training the ANN model on the Training set"
      ]
    },
    {
      "cell_type": "code",
      "source": [
        "ann.fit(X_train, y_train, batch_size = 32, epochs = 100)"
      ],
      "metadata": {
        "colab": {
          "base_uri": "https://localhost:8080/"
        },
        "id": "vJCAqit18m08",
        "outputId": "39b0c708-795b-42ab-ca66-1b99cc414a0d"
      },
      "execution_count": null,
      "outputs": [
        {
          "output_type": "stream",
          "name": "stdout",
          "text": [
            "Epoch 1/100\n",
            "240/240 [==============================] - 1s 1ms/step - loss: 107505.7969\n",
            "Epoch 2/100\n",
            "240/240 [==============================] - 0s 1ms/step - loss: 131.9776\n",
            "Epoch 3/100\n",
            "240/240 [==============================] - 0s 1ms/step - loss: 129.6767\n",
            "Epoch 4/100\n",
            "240/240 [==============================] - 0s 1ms/step - loss: 127.3601\n",
            "Epoch 5/100\n",
            "240/240 [==============================] - 0s 1ms/step - loss: 124.6044\n",
            "Epoch 6/100\n",
            "240/240 [==============================] - 0s 1ms/step - loss: 121.3942\n",
            "Epoch 7/100\n",
            "240/240 [==============================] - 0s 1ms/step - loss: 117.7373\n",
            "Epoch 8/100\n",
            "240/240 [==============================] - 0s 1ms/step - loss: 113.9648\n",
            "Epoch 9/100\n",
            "240/240 [==============================] - 0s 1ms/step - loss: 109.2246\n",
            "Epoch 10/100\n",
            "240/240 [==============================] - 0s 1ms/step - loss: 104.4549\n",
            "Epoch 11/100\n",
            "240/240 [==============================] - 0s 1ms/step - loss: 99.3485\n",
            "Epoch 12/100\n",
            "240/240 [==============================] - 0s 1ms/step - loss: 93.8904\n",
            "Epoch 13/100\n",
            "240/240 [==============================] - 0s 1ms/step - loss: 87.8696\n",
            "Epoch 14/100\n",
            "240/240 [==============================] - 0s 1ms/step - loss: 82.1838\n",
            "Epoch 15/100\n",
            "240/240 [==============================] - 0s 1ms/step - loss: 76.2397\n",
            "Epoch 16/100\n",
            "240/240 [==============================] - 0s 1ms/step - loss: 70.4636\n",
            "Epoch 17/100\n",
            "240/240 [==============================] - 0s 1ms/step - loss: 64.6870\n",
            "Epoch 18/100\n",
            "240/240 [==============================] - 0s 1ms/step - loss: 59.4738\n",
            "Epoch 19/100\n",
            "240/240 [==============================] - 0s 1ms/step - loss: 54.8797\n",
            "Epoch 20/100\n",
            "240/240 [==============================] - 0s 1ms/step - loss: 50.2973\n",
            "Epoch 21/100\n",
            "240/240 [==============================] - 0s 1ms/step - loss: 46.6264\n",
            "Epoch 22/100\n",
            "240/240 [==============================] - 0s 1ms/step - loss: 43.6770\n",
            "Epoch 23/100\n",
            "240/240 [==============================] - 0s 1ms/step - loss: 41.4015\n",
            "Epoch 24/100\n",
            "240/240 [==============================] - 0s 1ms/step - loss: 39.4857\n",
            "Epoch 25/100\n",
            "240/240 [==============================] - 0s 1ms/step - loss: 38.5164\n",
            "Epoch 26/100\n",
            "240/240 [==============================] - 0s 1ms/step - loss: 37.5312\n",
            "Epoch 27/100\n",
            "240/240 [==============================] - 0s 1ms/step - loss: 36.8303\n",
            "Epoch 28/100\n",
            "240/240 [==============================] - 0s 1ms/step - loss: 36.3318\n",
            "Epoch 29/100\n",
            "240/240 [==============================] - 0s 1ms/step - loss: 35.9405\n",
            "Epoch 30/100\n",
            "240/240 [==============================] - 0s 1ms/step - loss: 35.6439\n",
            "Epoch 31/100\n",
            "240/240 [==============================] - 0s 1ms/step - loss: 34.9127\n",
            "Epoch 32/100\n",
            "240/240 [==============================] - 0s 1ms/step - loss: 34.6270\n",
            "Epoch 33/100\n",
            "240/240 [==============================] - 0s 1ms/step - loss: 34.6795\n",
            "Epoch 34/100\n",
            "240/240 [==============================] - 0s 1ms/step - loss: 33.3372\n",
            "Epoch 35/100\n",
            "240/240 [==============================] - 0s 1ms/step - loss: 33.1612\n",
            "Epoch 36/100\n",
            "240/240 [==============================] - 0s 1ms/step - loss: 32.9737\n",
            "Epoch 37/100\n",
            "240/240 [==============================] - 0s 1ms/step - loss: 32.8393\n",
            "Epoch 38/100\n",
            "240/240 [==============================] - 0s 1ms/step - loss: 32.2207\n",
            "Epoch 39/100\n",
            "240/240 [==============================] - 0s 1ms/step - loss: 31.1629\n",
            "Epoch 40/100\n",
            "240/240 [==============================] - 0s 1ms/step - loss: 31.6993\n",
            "Epoch 41/100\n",
            "240/240 [==============================] - 0s 1ms/step - loss: 30.8677\n",
            "Epoch 42/100\n",
            "240/240 [==============================] - 0s 1ms/step - loss: 31.0143\n",
            "Epoch 43/100\n",
            "240/240 [==============================] - 0s 1ms/step - loss: 31.4720\n",
            "Epoch 44/100\n",
            "240/240 [==============================] - 0s 1ms/step - loss: 29.3407\n",
            "Epoch 45/100\n",
            "240/240 [==============================] - 0s 1ms/step - loss: 29.2545\n",
            "Epoch 46/100\n",
            "240/240 [==============================] - 0s 1ms/step - loss: 30.2604\n",
            "Epoch 47/100\n",
            "240/240 [==============================] - 0s 1ms/step - loss: 29.1693\n",
            "Epoch 48/100\n",
            "240/240 [==============================] - 0s 1ms/step - loss: 29.3001\n",
            "Epoch 49/100\n",
            "240/240 [==============================] - 0s 1ms/step - loss: 28.7989\n",
            "Epoch 50/100\n",
            "240/240 [==============================] - 0s 1ms/step - loss: 28.4145\n",
            "Epoch 51/100\n",
            "240/240 [==============================] - 0s 1ms/step - loss: 28.7358\n",
            "Epoch 52/100\n",
            "240/240 [==============================] - 0s 1ms/step - loss: 28.8287\n",
            "Epoch 53/100\n",
            "240/240 [==============================] - 0s 1ms/step - loss: 27.9990\n",
            "Epoch 54/100\n",
            "240/240 [==============================] - 0s 1ms/step - loss: 28.0468\n",
            "Epoch 55/100\n",
            "240/240 [==============================] - 0s 1ms/step - loss: 27.9886\n",
            "Epoch 56/100\n",
            "240/240 [==============================] - 0s 1ms/step - loss: 27.7010\n",
            "Epoch 57/100\n",
            "240/240 [==============================] - 0s 1ms/step - loss: 28.5889\n",
            "Epoch 58/100\n",
            "240/240 [==============================] - 0s 1ms/step - loss: 28.8629\n",
            "Epoch 59/100\n",
            "240/240 [==============================] - 0s 1ms/step - loss: 28.7192\n",
            "Epoch 60/100\n",
            "240/240 [==============================] - 0s 1ms/step - loss: 28.7530\n",
            "Epoch 61/100\n",
            "240/240 [==============================] - 0s 1ms/step - loss: 27.5575\n",
            "Epoch 62/100\n",
            "240/240 [==============================] - 0s 1ms/step - loss: 28.0578\n",
            "Epoch 63/100\n",
            "240/240 [==============================] - 0s 1ms/step - loss: 27.4322\n",
            "Epoch 64/100\n",
            "240/240 [==============================] - 0s 1ms/step - loss: 28.2187\n",
            "Epoch 65/100\n",
            "240/240 [==============================] - 0s 1ms/step - loss: 27.6772\n",
            "Epoch 66/100\n",
            "240/240 [==============================] - 0s 1ms/step - loss: 27.0112\n",
            "Epoch 67/100\n",
            "240/240 [==============================] - 0s 1ms/step - loss: 28.3071\n",
            "Epoch 68/100\n",
            "240/240 [==============================] - 0s 1ms/step - loss: 28.2107\n",
            "Epoch 69/100\n",
            "240/240 [==============================] - 0s 1ms/step - loss: 27.3109\n",
            "Epoch 70/100\n",
            "240/240 [==============================] - 0s 1ms/step - loss: 28.5189\n",
            "Epoch 71/100\n",
            "240/240 [==============================] - 0s 1ms/step - loss: 27.6440\n",
            "Epoch 72/100\n",
            "240/240 [==============================] - 0s 1ms/step - loss: 27.8634\n",
            "Epoch 73/100\n",
            "240/240 [==============================] - 0s 1ms/step - loss: 27.7253\n",
            "Epoch 74/100\n",
            "240/240 [==============================] - 0s 1ms/step - loss: 28.0699\n",
            "Epoch 75/100\n",
            "240/240 [==============================] - 0s 1ms/step - loss: 27.8851\n",
            "Epoch 76/100\n",
            "240/240 [==============================] - 0s 1ms/step - loss: 27.0345\n",
            "Epoch 77/100\n",
            "240/240 [==============================] - 0s 1ms/step - loss: 27.5825\n",
            "Epoch 78/100\n",
            "240/240 [==============================] - 0s 1ms/step - loss: 27.5001\n",
            "Epoch 79/100\n",
            "240/240 [==============================] - 0s 1ms/step - loss: 29.1699\n",
            "Epoch 80/100\n",
            "240/240 [==============================] - 0s 1ms/step - loss: 26.8632\n",
            "Epoch 81/100\n",
            "240/240 [==============================] - 0s 1ms/step - loss: 27.7349\n",
            "Epoch 82/100\n",
            "240/240 [==============================] - 0s 1ms/step - loss: 27.0839\n",
            "Epoch 83/100\n",
            "240/240 [==============================] - 0s 1ms/step - loss: 28.5927\n",
            "Epoch 84/100\n",
            "240/240 [==============================] - 0s 1ms/step - loss: 28.0725\n",
            "Epoch 85/100\n",
            "240/240 [==============================] - 0s 1ms/step - loss: 28.0886\n",
            "Epoch 86/100\n",
            "240/240 [==============================] - 0s 1ms/step - loss: 27.7224\n",
            "Epoch 87/100\n",
            "240/240 [==============================] - 0s 1ms/step - loss: 27.1266\n",
            "Epoch 88/100\n",
            "240/240 [==============================] - 0s 1ms/step - loss: 27.8323\n",
            "Epoch 89/100\n",
            "240/240 [==============================] - 0s 1ms/step - loss: 27.2394\n",
            "Epoch 90/100\n",
            "240/240 [==============================] - 0s 1ms/step - loss: 26.9102\n",
            "Epoch 91/100\n",
            "240/240 [==============================] - 0s 1ms/step - loss: 27.3210\n",
            "Epoch 92/100\n",
            "240/240 [==============================] - 0s 1ms/step - loss: 26.9084\n",
            "Epoch 93/100\n",
            "240/240 [==============================] - 0s 1ms/step - loss: 27.4002\n",
            "Epoch 94/100\n",
            "240/240 [==============================] - 0s 1ms/step - loss: 28.2204\n",
            "Epoch 95/100\n",
            "240/240 [==============================] - 0s 1ms/step - loss: 29.4194\n",
            "Epoch 96/100\n",
            "240/240 [==============================] - 0s 1ms/step - loss: 28.2480\n",
            "Epoch 97/100\n",
            "240/240 [==============================] - 0s 1ms/step - loss: 27.9281\n",
            "Epoch 98/100\n",
            "240/240 [==============================] - 0s 1ms/step - loss: 27.4331\n",
            "Epoch 99/100\n",
            "240/240 [==============================] - 0s 1ms/step - loss: 27.2654\n",
            "Epoch 100/100\n",
            "240/240 [==============================] - 0s 1ms/step - loss: 26.6561\n"
          ]
        },
        {
          "output_type": "execute_result",
          "data": {
            "text/plain": [
              "<keras.callbacks.History at 0x7f305b590fd0>"
            ]
          },
          "metadata": {},
          "execution_count": 10
        }
      ]
    },
    {
      "cell_type": "markdown",
      "metadata": {
        "id": "0H0zKKNEBLD5"
      },
      "source": [
        "### Predicting the results of the Test set"
      ]
    },
    {
      "cell_type": "code",
      "source": [
        "y_pred = ann.predict(X_test)\n",
        "np.set_printoptions(precision = 2)\n",
        "print(np.concatenate((y_pred.reshape(len(y_pred),1), y_test.reshape(len(y_test),1)), 1))"
      ],
      "metadata": {
        "colab": {
          "base_uri": "https://localhost:8080/"
        },
        "id": "j-ss5VvB8nYs",
        "outputId": "25304c3a-3119-4359-a7b7-1ee36bab0fc8"
      },
      "execution_count": null,
      "outputs": [
        {
          "output_type": "stream",
          "name": "stdout",
          "text": [
            "[[431.64 431.23]\n",
            " [462.8  460.01]\n",
            " [466.33 461.14]\n",
            " ...\n",
            " [473.55 473.26]\n",
            " [440.29 438.  ]\n",
            " [459.54 463.28]]\n"
          ]
        }
      ]
    }
  ]
}